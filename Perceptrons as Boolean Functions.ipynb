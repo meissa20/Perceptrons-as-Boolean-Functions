{
 "cells": [
  {
   "cell_type": "code",
   "execution_count": 1,
   "id": "024d8f3f-7ab6-4fd5-8f69-cdd6289f24a4",
   "metadata": {},
   "outputs": [],
   "source": [
    "import numpy as np"
   ]
  },
  {
   "cell_type": "code",
   "execution_count": 5,
   "id": "ba03f82a-d30c-4076-bf2c-82c37579abef",
   "metadata": {},
   "outputs": [],
   "source": [
    "X = np.array([0, 1, 1, 1])\n",
    "Y = np.array([0, 1, 0, 0])\n",
    "Z = np.array([0, 1, 0, 1])\n",
    "A = np.array([0, 1, 1, 0])"
   ]
  },
  {
   "cell_type": "code",
   "execution_count": 49,
   "id": "962dce7f-00a6-4305-8b11-e263ccc91196",
   "metadata": {},
   "outputs": [],
   "source": [
    "def perceptron(ipt, weights, thresh):\n",
    "    op = ipt*weights\n",
    "    op = np.sum(op)>=thresh\n",
    "    op = op.astype(int)\n",
    "    return op"
   ]
  },
  {
   "cell_type": "code",
   "execution_count": 67,
   "id": "1305b227-e31b-44e7-92e9-af309e7f6870",
   "metadata": {},
   "outputs": [
    {
     "name": "stdout",
     "output_type": "stream",
     "text": [
      "[0, 0, 1, 0]\n"
     ]
    }
   ],
   "source": [
    "table_len = 4\n",
    "outputs = []\n",
    "for i in range(table_len):\n",
    "    AXnotZ = perceptron([A[i], X[i], Z[i]], np.array([1, -1, 1]), 2)\n",
    "    AYnot = perceptron([A[i], Y[i]], np.array([1, -1]), 1)\n",
    "    \n",
    "    XY = perceptron([X[i], Y[i]], np.array([1, 1]), 2)\n",
    "    XZ = perceptron([X[i], Z[i]], np.array([1, 1]), 2)\n",
    "    \n",
    "    OR1 = perceptron([AXnotZ, AYnot], np.array([1, 1]), 1)\n",
    "    OR2 = perceptron([XY, XZ], np.array([1, -1]), 0)\n",
    "    \n",
    "    op = perceptron([OR1, OR2], np.array([1, 1]), 2)\n",
    "    outputs.append(op)\n",
    "print(outputs)"
   ]
  }
 ],
 "metadata": {
  "kernelspec": {
   "display_name": "Python 3 (ipykernel)",
   "language": "python",
   "name": "python3"
  },
  "language_info": {
   "codemirror_mode": {
    "name": "ipython",
    "version": 3
   },
   "file_extension": ".py",
   "mimetype": "text/x-python",
   "name": "python",
   "nbconvert_exporter": "python",
   "pygments_lexer": "ipython3",
   "version": "3.12.3"
  }
 },
 "nbformat": 4,
 "nbformat_minor": 5
}
